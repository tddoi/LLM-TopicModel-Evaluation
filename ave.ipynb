{
 "cells": [
  {
   "cell_type": "code",
   "execution_count": 2,
   "metadata": {},
   "outputs": [
    {
     "name": "stdout",
     "output_type": "stream",
     "text": [
      "defaultdict(<class 'list'>, {'Cov_in_datasets/20NG/train_texts.txt': [0.734, 0.804, 0.756], 'Cov_in_datasets/20NG_talk.politics/train_texts.txt': [0.7012987012987013, 0.8051948051948052, 0.7142857142857143], 'Cov_in_datasets/20NG_comp/train_texts.txt': [0.9365079365079365, 0.9603174603174603, 0.9444444444444444], 'Cov_in_datasets/20NG_sci/train_texts.txt': [0.7448979591836735, 0.8163265306122449, 0.7653061224489796], 'Cov_in_datasets/20NG_rec.sport/train_texts.txt': [0.7192982456140351, 0.7543859649122807, 0.7192982456140351], 'Fct_in_datasets/20NG/vocab.txt': [1.0, 0.9583333333333334, 1.0]})\n",
      "Cov_in_datasets/20NG/train_texts.txt: 0.7646666666666667\n",
      "Cov_in_datasets/20NG_talk.politics/train_texts.txt: 0.7402597402597403\n",
      "Cov_in_datasets/20NG_comp/train_texts.txt: 0.947089947089947\n",
      "Cov_in_datasets/20NG_sci/train_texts.txt: 0.7755102040816326\n",
      "Cov_in_datasets/20NG_rec.sport/train_texts.txt: 0.7309941520467836\n",
      "Fct_in_datasets/20NG/vocab.txt: 0.9861111111111112\n"
     ]
    }
   ],
   "source": [
    "import json\n",
    "from pathlib import Path\n",
    "from collections import defaultdict\n",
    "\n",
    "def read_json(file_path):\n",
    "    with open(file_path, 'r') as f:\n",
    "        return json.load(f)\n",
    "\n",
    "def calculate_averages(file_paths):\n",
    "    key_values = defaultdict(list)\n",
    "    \n",
    "    for file_path in file_paths:\n",
    "        data = read_json(file_path)\n",
    "        for key, value in data.items():\n",
    "            key_values[key].append(value)\n",
    "    \n",
    "    print(key_values)\n",
    "    averages = {key: sum(values) / len(values) for key, values in key_values.items()}\n",
    "    return averages\n",
    "\n",
    "# JSON ファイルのパスをリストとして渡す\n",
    "json_file_paths = [f\"outputs/2024-06-11-1717-Ctrl-Focus/20NG/gpt-4-turbo-2024-04-09_oracle_comp/{i}/scores.json\" for i in [2,3,5]]\n",
    "\n",
    "# 平均を計算する\n",
    "averages = calculate_averages(json_file_paths)\n",
    "\n",
    "# 結果を表示する\n",
    "for key, avg in averages.items():\n",
    "    print(f'{key}: {avg}')"
   ]
  }
 ],
 "metadata": {
  "kernelspec": {
   "display_name": "venv",
   "language": "python",
   "name": "python3"
  },
  "language_info": {
   "codemirror_mode": {
    "name": "ipython",
    "version": 3
   },
   "file_extension": ".py",
   "mimetype": "text/x-python",
   "name": "python",
   "nbconvert_exporter": "python",
   "pygments_lexer": "ipython3",
   "version": "3.11.7"
  },
  "orig_nbformat": 4
 },
 "nbformat": 4,
 "nbformat_minor": 2
}
